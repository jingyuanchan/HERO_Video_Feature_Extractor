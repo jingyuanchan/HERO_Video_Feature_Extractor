{
  "cells": [
    {
      "cell_type": "code",
      "execution_count": null,
      "metadata": {
        "collapsed": false
      },
      "outputs": [],
      "source": [
        "%matplotlib inline"
      ]
    },
    {
      "cell_type": "markdown",
      "metadata": {},
      "source": [
        "\n",
        "# Illustration of transforms\n",
        "\n",
        "This example illustrates the various transforms available in `the\n",
        "torchvision.transforms module <transforms>`.\n"
      ]
    },
    {
      "cell_type": "code",
      "execution_count": null,
      "metadata": {
        "collapsed": false
      },
      "outputs": [],
      "source": [
        "# sphinx_gallery_thumbnail_path = \"../../gallery/assets/transforms_thumbnail.png\"\n",
        "\n",
        "from PIL import Image\n",
        "from pathlib import Path\n",
        "import matplotlib.pyplot as plt\n",
        "import numpy as np\n",
        "\n",
        "import torch\n",
        "import torchvision.transforms as T\n",
        "\n",
        "\n",
        "plt.rcParams[\"savefig.bbox\"] = 'tight'\n",
        "orig_img = Image.open(Path('test.jpg'))\n",
        "# if you change the seed, make sure that the randomly-applied transforms\n",
        "# properly show that the image can be both transformed and *not* transformed!\n",
        "torch.manual_seed(0)\n",
        "\n",
        "\n",
        "def plot(imgs, with_orig=True, row_title=None, **imshow_kwargs):\n",
        "    if not isinstance(imgs[0], list):\n",
        "        # Make a 2d grid even if there's just 1 row\n",
        "        imgs = [imgs]\n",
        "\n",
        "    num_rows = len(imgs)\n",
        "    num_cols = len(imgs[0]) + with_orig\n",
        "    fig, axs = plt.subplots(nrows=num_rows, ncols=num_cols, squeeze=False)\n",
        "    for row_idx, row in enumerate(imgs):\n",
        "        row = [orig_img] + row if with_orig else row\n",
        "        for col_idx, img in enumerate(row):\n",
        "            ax = axs[row_idx, col_idx]\n",
        "            ax.imshow(np.asarray(img), **imshow_kwargs)\n",
        "            ax.set(xticklabels=[], yticklabels=[], xticks=[], yticks=[])\n",
        "\n",
        "    if with_orig:\n",
        "        axs[0, 0].set(title='Original image')\n",
        "        axs[0, 0].title.set_size(8)\n",
        "    if row_title is not None:\n",
        "        for row_idx in range(num_rows):\n",
        "            axs[row_idx, 0].set(ylabel=row_title[row_idx])\n",
        "\n",
        "    plt.tight_layout()"
      ]
    },
    {
      "cell_type": "markdown",
      "metadata": {},
      "source": [
        "## Pad\n",
        "The :class:`~torchvision.transforms.Pad` transform\n",
        "(see also :func:`~torchvision.transforms.functional.pad`)\n",
        "fills image borders with some pixel values.\n",
        "\n"
      ]
    },
    {
      "cell_type": "code",
      "execution_count": null,
      "metadata": {
        "collapsed": false
      },
      "outputs": [],
      "source": [
        "padded_imgs = [T.Pad(padding=padding)(orig_img) for padding in (3, 10, 30, 50)]\n",
        "plot(padded_imgs)"
      ]
    },
    {
      "cell_type": "markdown",
      "metadata": {},
      "source": [
        "## Resize\n",
        "The :class:`~torchvision.transforms.Resize` transform\n",
        "(see also :func:`~torchvision.transforms.functional.resize`)\n",
        "resizes an image.\n",
        "\n"
      ]
    },
    {
      "cell_type": "code",
      "execution_count": null,
      "metadata": {
        "collapsed": false
      },
      "outputs": [],
      "source": [
        "resized_imgs = [T.Resize(size=size)(orig_img) for size in (30, 50, 100, orig_img.size)]\n",
        "plot(resized_imgs)"
      ]
    },
    {
      "cell_type": "markdown",
      "metadata": {},
      "source": [
        "## CenterCrop\n",
        "The :class:`~torchvision.transforms.CenterCrop` transform\n",
        "(see also :func:`~torchvision.transforms.functional.center_crop`)\n",
        "crops the given image at the center.\n",
        "\n"
      ]
    },
    {
      "cell_type": "code",
      "execution_count": null,
      "metadata": {
        "collapsed": false
      },
      "outputs": [],
      "source": [
        "center_crops = [T.CenterCrop(size=size)(orig_img) for size in (30, 50, 100, orig_img.size)]\n",
        "plot(center_crops)"
      ]
    },
    {
      "cell_type": "markdown",
      "metadata": {},
      "source": [
        "## FiveCrop\n",
        "The :class:`~torchvision.transforms.FiveCrop` transform\n",
        "(see also :func:`~torchvision.transforms.functional.five_crop`)\n",
        "crops the given image into four corners and the central crop.\n",
        "\n"
      ]
    },
    {
      "cell_type": "code",
      "execution_count": null,
      "metadata": {
        "collapsed": false
      },
      "outputs": [],
      "source": [
        "(top_left, top_right, bottom_left, bottom_right, center) = T.FiveCrop(size=(100, 100))(orig_img)\n",
        "plot([top_left, top_right, bottom_left, bottom_right, center])"
      ]
    },
    {
      "cell_type": "markdown",
      "metadata": {},
      "source": [
        "## Grayscale\n",
        "The :class:`~torchvision.transforms.Grayscale` transform\n",
        "(see also :func:`~torchvision.transforms.functional.to_grayscale`)\n",
        "converts an image to grayscale\n",
        "\n"
      ]
    },
    {
      "cell_type": "code",
      "execution_count": null,
      "metadata": {
        "collapsed": false
      },
      "outputs": [],
      "source": [
        "gray_img = T.Grayscale()(orig_img)\n",
        "plot([gray_img], cmap='gray')"
      ]
    },
    {
      "cell_type": "markdown",
      "metadata": {},
      "source": [
        "## Random transforms\n",
        "The following transforms are random, which means that the same transfomer\n",
        "instance will produce different result each time it transforms a given image.\n",
        "\n",
        "### ColorJitter\n",
        "The :class:`~torchvision.transforms.ColorJitter` transform\n",
        "randomly changes the brightness, saturation, and other properties of an image.\n",
        "\n"
      ]
    },
    {
      "cell_type": "code",
      "execution_count": null,
      "metadata": {
        "collapsed": false
      },
      "outputs": [],
      "source": [
        "jitter = T.ColorJitter(brightness=.5, hue=.3)\n",
        "jitted_imgs = [jitter(orig_img) for _ in range(4)]\n",
        "plot(jitted_imgs)"
      ]
    },
    {
      "cell_type": "markdown",
      "metadata": {},
      "source": [
        "### GaussianBlur\n",
        "The :class:`~torchvision.transforms.GaussianBlur` transform\n",
        "(see also :func:`~torchvision.transforms.functional.gaussian_blur`)\n",
        "performs gaussian blur transform on an image.\n",
        "\n"
      ]
    },
    {
      "cell_type": "code",
      "execution_count": null,
      "metadata": {
        "collapsed": false
      },
      "outputs": [],
      "source": [
        "blurrer = T.GaussianBlur(kernel_size=(5, 9), sigma=(0.1, 5))\n",
        "blurred_imgs = [blurrer(orig_img) for _ in range(4)]\n",
        "plot(blurred_imgs)"
      ]
    },
    {
      "cell_type": "markdown",
      "metadata": {},
      "source": [
        "### RandomPerspective\n",
        "The :class:`~torchvision.transforms.RandomPerspective` transform\n",
        "(see also :func:`~torchvision.transforms.functional.perspective`)\n",
        "performs random perspective transform on an image.\n",
        "\n"
      ]
    },
    {
      "cell_type": "code",
      "execution_count": null,
      "metadata": {
        "collapsed": false
      },
      "outputs": [],
      "source": [
        "perspective_transformer = T.RandomPerspective(distortion_scale=0.6, p=1.0)\n",
        "perspective_imgs = [perspective_transformer(orig_img) for _ in range(4)]\n",
        "plot(perspective_imgs)"
      ]
    },
    {
      "cell_type": "markdown",
      "metadata": {},
      "source": [
        "### RandomRotation\n",
        "The :class:`~torchvision.transforms.RandomRotation` transform\n",
        "(see also :func:`~torchvision.transforms.functional.rotate`)\n",
        "rotates an image with random angle.\n",
        "\n"
      ]
    },
    {
      "cell_type": "code",
      "execution_count": null,
      "metadata": {
        "collapsed": false
      },
      "outputs": [],
      "source": [
        "rotater = T.RandomRotation(degrees=(0, 180))\n",
        "rotated_imgs = [rotater(orig_img) for _ in range(4)]\n",
        "plot(rotated_imgs)"
      ]
    },
    {
      "cell_type": "markdown",
      "metadata": {},
      "source": [
        "### RandomAffine\n",
        "The :class:`~torchvision.transforms.RandomAffine` transform\n",
        "(see also :func:`~torchvision.transforms.functional.affine`)\n",
        "performs random affine transform on an image.\n",
        "\n"
      ]
    },
    {
      "cell_type": "code",
      "execution_count": null,
      "metadata": {
        "collapsed": false
      },
      "outputs": [],
      "source": [
        "affine_transfomer = T.RandomAffine(degrees=(30, 70), translate=(0.1, 0.3), scale=(0.5, 0.75))\n",
        "affine_imgs = [affine_transfomer(orig_img) for _ in range(4)]\n",
        "plot(affine_imgs)"
      ]
    },
    {
      "cell_type": "markdown",
      "metadata": {},
      "source": [
        "### RandomCrop\n",
        "The :class:`~torchvision.transforms.RandomCrop` transform\n",
        "(see also :func:`~torchvision.transforms.functional.crop`)\n",
        "crops an image at a random location.\n",
        "\n"
      ]
    },
    {
      "cell_type": "code",
      "execution_count": null,
      "metadata": {
        "collapsed": false
      },
      "outputs": [],
      "source": [
        "cropper = T.RandomCrop(size=(128, 128))\n",
        "crops = [cropper(orig_img) for _ in range(4)]\n",
        "plot(crops)"
      ]
    },
    {
      "cell_type": "markdown",
      "metadata": {},
      "source": [
        "### RandomResizedCrop\n",
        "The :class:`~torchvision.transforms.RandomResizedCrop` transform\n",
        "(see also :func:`~torchvision.transforms.functional.resized_crop`)\n",
        "crops an image at a random location, and then resizes the crop to a given\n",
        "size.\n",
        "\n"
      ]
    },
    {
      "cell_type": "code",
      "execution_count": null,
      "metadata": {
        "collapsed": false
      },
      "outputs": [],
      "source": [
        "resize_cropper = T.RandomResizedCrop(size=(32, 32))\n",
        "resized_crops = [resize_cropper(orig_img) for _ in range(4)]\n",
        "plot(resized_crops)"
      ]
    },
    {
      "cell_type": "markdown",
      "metadata": {},
      "source": [
        "### RandomInvert\n",
        "The :class:`~torchvision.transforms.RandomInvert` transform\n",
        "(see also :func:`~torchvision.transforms.functional.invert`)\n",
        "randomly inverts the colors of the given image.\n",
        "\n"
      ]
    },
    {
      "cell_type": "code",
      "execution_count": null,
      "metadata": {
        "collapsed": false
      },
      "outputs": [],
      "source": [
        "inverter = T.RandomInvert()\n",
        "invertered_imgs = [inverter(orig_img) for _ in range(4)]\n",
        "plot(invertered_imgs)"
      ]
    },
    {
      "cell_type": "markdown",
      "metadata": {},
      "source": [
        "### RandomPosterize\n",
        "The :class:`~torchvision.transforms.RandomPosterize` transform\n",
        "(see also :func:`~torchvision.transforms.functional.posterize`)\n",
        "randomly posterizes the image by reducing the number of bits\n",
        "of each color channel.\n",
        "\n"
      ]
    },
    {
      "cell_type": "code",
      "execution_count": null,
      "metadata": {
        "collapsed": false
      },
      "outputs": [],
      "source": [
        "posterizer = T.RandomPosterize(bits=2)\n",
        "posterized_imgs = [posterizer(orig_img) for _ in range(4)]\n",
        "plot(posterized_imgs)"
      ]
    },
    {
      "cell_type": "markdown",
      "metadata": {},
      "source": [
        "### RandomSolarize\n",
        "The :class:`~torchvision.transforms.RandomSolarize` transform\n",
        "(see also :func:`~torchvision.transforms.functional.solarize`)\n",
        "randomly solarizes the image by inverting all pixel values above\n",
        "the threshold.\n",
        "\n"
      ]
    },
    {
      "cell_type": "code",
      "execution_count": null,
      "metadata": {
        "collapsed": false
      },
      "outputs": [],
      "source": [
        "solarizer = T.RandomSolarize(threshold=192.0)\n",
        "solarized_imgs = [solarizer(orig_img) for _ in range(4)]\n",
        "plot(solarized_imgs)"
      ]
    },
    {
      "cell_type": "markdown",
      "metadata": {},
      "source": [
        "### RandomAdjustSharpness\n",
        "The :class:`~torchvision.transforms.RandomAdjustSharpness` transform\n",
        "(see also :func:`~torchvision.transforms.functional.adjust_sharpness`)\n",
        "randomly adjusts the sharpness of the given image.\n",
        "\n"
      ]
    },
    {
      "cell_type": "code",
      "execution_count": null,
      "metadata": {
        "collapsed": false
      },
      "outputs": [],
      "source": [
        "sharpness_adjuster = T.RandomAdjustSharpness(sharpness_factor=2)\n",
        "sharpened_imgs = [sharpness_adjuster(orig_img) for _ in range(4)]\n",
        "plot(sharpened_imgs)"
      ]
    },
    {
      "cell_type": "markdown",
      "metadata": {},
      "source": [
        "### RandomAutocontrast\n",
        "The :class:`~torchvision.transforms.RandomAutocontrast` transform\n",
        "(see also :func:`~torchvision.transforms.functional.autocontrast`)\n",
        "randomly applies autocontrast to the given image.\n",
        "\n"
      ]
    },
    {
      "cell_type": "code",
      "execution_count": null,
      "metadata": {
        "collapsed": false
      },
      "outputs": [],
      "source": [
        "autocontraster = T.RandomAutocontrast()\n",
        "autocontrasted_imgs = [autocontraster(orig_img) for _ in range(4)]\n",
        "plot(autocontrasted_imgs)"
      ]
    },
    {
      "cell_type": "markdown",
      "metadata": {},
      "source": [
        "### RandomEqualize\n",
        "The :class:`~torchvision.transforms.RandomEqualize` transform\n",
        "(see also :func:`~torchvision.transforms.functional.equalize`)\n",
        "randomly equalizes the histogram of the given image.\n",
        "\n"
      ]
    },
    {
      "cell_type": "code",
      "execution_count": null,
      "metadata": {
        "collapsed": false
      },
      "outputs": [],
      "source": [
        "equalizer = T.RandomEqualize()\n",
        "equalized_imgs = [equalizer(orig_img) for _ in range(4)]\n",
        "plot(equalized_imgs)"
      ]
    },
    {
      "cell_type": "markdown",
      "metadata": {},
      "source": [
        "### AutoAugment\n",
        "The :class:`~torchvision.transforms.AutoAugment` transform\n",
        "automatically augments data based on a given auto-augmentation policy.\n",
        "See :class:`~torchvision.transforms.AutoAugmentPolicy` for the available policies.\n",
        "\n"
      ]
    },
    {
      "cell_type": "code",
      "execution_count": null,
      "metadata": {
        "collapsed": false
      },
      "outputs": [],
      "source": [
        "policies = [T.AutoAugmentPolicy.CIFAR10, T.AutoAugmentPolicy.IMAGENET, T.AutoAugmentPolicy.SVHN]\n",
        "augmenters = [T.AutoAugment(policy) for policy in policies]\n",
        "imgs = [\n",
        "    [augmenter(orig_img) for _ in range(4)]\n",
        "    for augmenter in augmenters\n",
        "]\n",
        "row_title = [str(policy).split('.')[-1] for policy in policies]\n",
        "plot(imgs, row_title=row_title)"
      ]
    },
    {
      "cell_type": "markdown",
      "metadata": {},
      "source": [
        "### RandAugment\n",
        "The :class:`~torchvision.transforms.RandAugment` transform automatically augments the data.\n",
        "\n"
      ]
    },
    {
      "cell_type": "code",
      "execution_count": null,
      "metadata": {
        "collapsed": false
      },
      "outputs": [],
      "source": [
        "augmenter = T.RandAugment()\n",
        "imgs = [augmenter(orig_img) for _ in range(4)]\n",
        "plot(imgs)"
      ]
    },
    {
      "cell_type": "markdown",
      "metadata": {},
      "source": [
        "### TrivialAugmentWide\n",
        "The :class:`~torchvision.transforms.TrivialAugmentWide` transform automatically augments the data.\n",
        "\n"
      ]
    },
    {
      "cell_type": "code",
      "execution_count": null,
      "metadata": {
        "collapsed": false
      },
      "outputs": [],
      "source": [
        "augmenter = T.TrivialAugmentWide()\n",
        "imgs = [augmenter(orig_img) for _ in range(4)]\n",
        "plot(imgs)"
      ]
    },
    {
      "cell_type": "markdown",
      "metadata": {},
      "source": [
        "## Randomly-applied transforms\n",
        "\n",
        "Some transforms are randomly-applied given a probability ``p``.  That is, the\n",
        "transformed image may actually be the same as the original one, even when\n",
        "called with the same transformer instance!\n",
        "\n",
        "### RandomHorizontalFlip\n",
        "The :class:`~torchvision.transforms.RandomHorizontalFlip` transform\n",
        "(see also :func:`~torchvision.transforms.functional.hflip`)\n",
        "performs horizontal flip of an image, with a given probability.\n",
        "\n"
      ]
    },
    {
      "cell_type": "code",
      "execution_count": null,
      "metadata": {
        "collapsed": false
      },
      "outputs": [],
      "source": [
        "hflipper = T.RandomHorizontalFlip(p=0.5)\n",
        "transformed_imgs = [hflipper(orig_img) for _ in range(4)]\n",
        "plot(transformed_imgs)"
      ]
    },
    {
      "cell_type": "markdown",
      "metadata": {},
      "source": [
        "### RandomVerticalFlip\n",
        "The :class:`~torchvision.transforms.RandomVerticalFlip` transform\n",
        "(see also :func:`~torchvision.transforms.functional.vflip`)\n",
        "performs vertical flip of an image, with a given probability.\n",
        "\n"
      ]
    },
    {
      "cell_type": "code",
      "execution_count": null,
      "metadata": {
        "collapsed": false
      },
      "outputs": [],
      "source": [
        "vflipper = T.RandomVerticalFlip(p=0.5)\n",
        "transformed_imgs = [vflipper(orig_img) for _ in range(4)]\n",
        "plot(transformed_imgs)"
      ]
    },
    {
      "cell_type": "markdown",
      "metadata": {},
      "source": [
        "### RandomApply\n",
        "The :class:`~torchvision.transforms.RandomApply` transform\n",
        "randomly applies a list of transforms, with a given probability.\n",
        "\n"
      ]
    },
    {
      "cell_type": "code",
      "execution_count": null,
      "metadata": {
        "collapsed": false
      },
      "outputs": [],
      "source": [
        "applier = T.RandomApply(transforms=[T.RandomCrop(size=(64, 64))], p=0.5)\n",
        "transformed_imgs = [applier(orig_img) for _ in range(4)]\n",
        "plot(transformed_imgs)"
      ]
    }
  ],
  "metadata": {
    "kernelspec": {
      "display_name": "Python 3",
      "language": "python",
      "name": "python3"
    },
    "language_info": {
      "codemirror_mode": {
        "name": "ipython",
        "version": 3
      },
      "file_extension": ".py",
      "mimetype": "text/x-python",
      "name": "python",
      "nbconvert_exporter": "python",
      "pygments_lexer": "ipython3",
      "version": "3.7.11"
    }
  },
  "nbformat": 4,
  "nbformat_minor": 0
}
